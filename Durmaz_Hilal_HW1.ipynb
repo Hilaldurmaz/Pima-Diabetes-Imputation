{
 "cells": [
  {
   "cell_type": "markdown",
   "metadata": {},
   "source": [
    "# <font color=\"blue\">DA514 - Homework Assignment 1</font>\n",
    "\n",
    "Assigned: February 11th, 2021<br>\n",
    "Due: **February 18th, 2021 23:55pm**\n",
    "\n",
    "Please use this notebook for your answers. Add your charts/graphs/code where necessary. You can select the \"Markdown\" mode from the drop-down menu above and type your answer/reasoning there. It would be extra nice if you can use equations. The notebooks we provided have numerous examples. you can also check the following link for the Markdown formula: http://csrgxtu.github.io/2015/03/20/Writing-Mathematic-Fomulars-in-Markdown/\n",
    "\n",
    "### Requirements (very important):\n",
    "1. Please use **this notebook** to answer the questions. If you work on Colab, you can download your notebook and use it for submission.\n",
    "\n",
    "\n",
    "2. Please name your notebook as **`lastName_firstName_HW1.ipynb`** and upload it to SuCourse+ on time.\n",
    "\n",
    "\n",
    "3. Don't send your work in HTML format. Because we must be able to run your code if need be. Don't send it in the **`.py`** format either. They won't be processed.  \n",
    "\n",
    "\n",
    "4. Please work alone."
   ]
  },
  {
   "cell_type": "markdown",
   "metadata": {},
   "source": [
    "# Predicting the onset of diabetes on Pima Indians within 5 years\n",
    "\n",
    "The population for this study was the Pima Indian population near Phoenix, Arizona. The population has been under continuous study since 1965 by the National Institute of Diabetes and Digestive and Kidney Diseases because of its high incidence rate of diabetes.\n",
    "\n",
    "For the purposes of this dataset, diabetes was diagnosed according to World Health Organization Criteria, which stated that if the 2 hour post-load glucose was at least 200 mg/dl at any survey exam or if the Indian Health Service Hospital serving the community found a glucose concentration of at least 200 mg/dl during the course of routine medical care.\n",
    "\n",
    "Given the medical data we can gather about people, we should be able to make better predictions on how likely a person is to suffer the onset of diabetes, and therefore act appropriately to help.\n",
    "\n",
    "This is a dataset to make predictions on whether a person is to suffer the diabetes given the 8 attributes. All patients in this dataset are females at least 21 years old of Pima Indian heritage. \n",
    "\n",
    "We have 537 instances in the train set (pima_train.csv) and 231 instances in the test set (pima_test.csv) with 8 attributes. \n",
    "\n",
    "**Pima Indians Diabetes Dataset attribute information:**\n",
    "\n",
    "|Feature|Explanation|\n",
    "|--|--|\n",
    "|numpreg|Number of times pregnant|\n",
    "|pgc|Plasma glucose concentration after 2 hours in an oral glucose tolerance test|\n",
    "|bldpres|Diastolic blood pressure (mm Hg)|\n",
    "|triceps|Triceps skin fold thickness (mm)|\n",
    "|serumins|2-Hour serum insulin (mu U/ml)|\n",
    "|bmi|Body mass index (weight in kg/(height in m)^2)|\n",
    "|pedig|Diabetes pedigree function|\n",
    "|age|Age (years)|\n",
    "|target|Class variable (0 or 1) : 1 is interpreted as \"tested positive\" for diabetes|\n",
    "\n",
    "A particularly interesting attribute used in the study was the Diabetes Pedigree Function, **pedi** which represents how likely they are to get the disease by extrapolating from their ancestor’s history. It provides information on diabetes mellitus history in relatives and the genetic relationship of those relatives to the patient. This measure of genetic influence gives us an idea of the hereditary risk one might have with the onset of diabetes mellitus.\n",
    "\n",
    "### Questions:\n",
    "Use a Logistic Regression classifier to predict the target in the test data. There are, however, missing values in the data files. Build your best model and identify the imputation method which gives you the highest classification accuracy. Try imputing the missing values by using:\n",
    "1. mean/median imputation whichever is more appropriate\n",
    "2. the predictive methods in the Iterative Imputer of scikit-learn   \n",
    "3. a variable to indicate missingness"
   ]
  },
  {
   "cell_type": "code",
   "execution_count": 379,
   "metadata": {},
   "outputs": [],
   "source": [
    "# Answer here\n",
    "# importing libraries...\n",
    "import timeit\n",
    "import numpy as np\n",
    "import pandas as pd\n",
    "import seaborn as sns\n",
    "import matplotlib.pyplot as plt\n",
    "from sklearn import preprocessing\n",
    "from sklearn import model_selection\n",
    "from sklearn.pipeline import Pipeline\n",
    "from sklearn.metrics import roc_curve, auc\n",
    "from sklearn.metrics import accuracy_score\n",
    "from sklearn.preprocessing import StandardScaler\n",
    "from sklearn.model_selection import train_test_split\n",
    "from sklearn.model_selection import StratifiedKFold, RepeatedKFold\n",
    "from sklearn.model_selection import GridSearchCV, RandomizedSearchCV\n",
    "sns.set()\n",
    "import warnings\n",
    "warnings.filterwarnings(\"ignore\")"
   ]
  },
  {
   "cell_type": "code",
   "execution_count": 380,
   "metadata": {},
   "outputs": [
    {
     "data": {
      "text/html": [
       "<div>\n",
       "<style scoped>\n",
       "    .dataframe tbody tr th:only-of-type {\n",
       "        vertical-align: middle;\n",
       "    }\n",
       "\n",
       "    .dataframe tbody tr th {\n",
       "        vertical-align: top;\n",
       "    }\n",
       "\n",
       "    .dataframe thead th {\n",
       "        text-align: right;\n",
       "    }\n",
       "</style>\n",
       "<table border=\"1\" class=\"dataframe\">\n",
       "  <thead>\n",
       "    <tr style=\"text-align: right;\">\n",
       "      <th></th>\n",
       "      <th>numpreg</th>\n",
       "      <th>pgc</th>\n",
       "      <th>bldpres</th>\n",
       "      <th>triceps</th>\n",
       "      <th>serumins</th>\n",
       "      <th>bmi</th>\n",
       "      <th>pedig</th>\n",
       "      <th>age</th>\n",
       "      <th>target</th>\n",
       "    </tr>\n",
       "  </thead>\n",
       "  <tbody>\n",
       "    <tr>\n",
       "      <td>0</td>\n",
       "      <td>4</td>\n",
       "      <td>151.0</td>\n",
       "      <td>90.0</td>\n",
       "      <td>38.0</td>\n",
       "      <td>NaN</td>\n",
       "      <td>29.7</td>\n",
       "      <td>0.294</td>\n",
       "      <td>36</td>\n",
       "      <td>0</td>\n",
       "    </tr>\n",
       "    <tr>\n",
       "      <td>1</td>\n",
       "      <td>4</td>\n",
       "      <td>116.0</td>\n",
       "      <td>72.0</td>\n",
       "      <td>12.0</td>\n",
       "      <td>87.0</td>\n",
       "      <td>22.1</td>\n",
       "      <td>0.463</td>\n",
       "      <td>37</td>\n",
       "      <td>0</td>\n",
       "    </tr>\n",
       "    <tr>\n",
       "      <td>2</td>\n",
       "      <td>6</td>\n",
       "      <td>92.0</td>\n",
       "      <td>62.0</td>\n",
       "      <td>32.0</td>\n",
       "      <td>126.0</td>\n",
       "      <td>32.0</td>\n",
       "      <td>0.085</td>\n",
       "      <td>46</td>\n",
       "      <td>0</td>\n",
       "    </tr>\n",
       "    <tr>\n",
       "      <td>3</td>\n",
       "      <td>9</td>\n",
       "      <td>57.0</td>\n",
       "      <td>80.0</td>\n",
       "      <td>37.0</td>\n",
       "      <td>NaN</td>\n",
       "      <td>32.8</td>\n",
       "      <td>0.096</td>\n",
       "      <td>41</td>\n",
       "      <td>0</td>\n",
       "    </tr>\n",
       "    <tr>\n",
       "      <td>4</td>\n",
       "      <td>3</td>\n",
       "      <td>81.0</td>\n",
       "      <td>86.0</td>\n",
       "      <td>16.0</td>\n",
       "      <td>66.0</td>\n",
       "      <td>27.5</td>\n",
       "      <td>0.306</td>\n",
       "      <td>22</td>\n",
       "      <td>0</td>\n",
       "    </tr>\n",
       "  </tbody>\n",
       "</table>\n",
       "</div>"
      ],
      "text/plain": [
       "   numpreg    pgc  bldpres  triceps  serumins   bmi  pedig  age  target\n",
       "0        4  151.0     90.0     38.0       NaN  29.7  0.294   36       0\n",
       "1        4  116.0     72.0     12.0      87.0  22.1  0.463   37       0\n",
       "2        6   92.0     62.0     32.0     126.0  32.0  0.085   46       0\n",
       "3        9   57.0     80.0     37.0       NaN  32.8  0.096   41       0\n",
       "4        3   81.0     86.0     16.0      66.0  27.5  0.306   22       0"
      ]
     },
     "execution_count": 380,
     "metadata": {},
     "output_type": "execute_result"
    }
   ],
   "source": [
    "df = pd.read_csv('pima_train.csv')\n",
    "df.head()"
   ]
  },
  {
   "cell_type": "code",
   "execution_count": 381,
   "metadata": {},
   "outputs": [
    {
     "name": "stdout",
     "output_type": "stream",
     "text": [
      "target\n",
      "0    350\n",
      "1    187\n",
      "dtype: int64\n"
     ]
    },
    {
     "data": {
      "image/png": "[encoded data removed]",
      "text/plain": [
       "<Figure size 432x288 with 1 Axes>"
      ]
     },
     "metadata": {},
     "output_type": "display_data"
    }
   ],
   "source": [
    "# Class distribution\n",
    "print(df.groupby('target').size()) \n",
    "\n",
    "sns.countplot(df['target'],label=\"Count\"); "
   ]
  },
  {
   "cell_type": "markdown",
   "metadata": {},
   "source": [
    "Out of 537 instances, number of customers have negative result is **350 (65.17%)**, positive result is **187 (34.82%)**. We have a somewhat unbalanced data set.\n"
   ]
  },
  {
   "cell_type": "code",
   "execution_count": 382,
   "metadata": {},
   "outputs": [
    {
     "name": "stdout",
     "output_type": "stream",
     "text": [
      "<class 'pandas.core.frame.DataFrame'>\n",
      "RangeIndex: 537 entries, 0 to 536\n",
      "Data columns (total 9 columns):\n",
      "numpreg     537 non-null int64\n",
      "pgc         532 non-null float64\n",
      "bldpres     512 non-null float64\n",
      "triceps     391 non-null float64\n",
      "serumins    294 non-null float64\n",
      "bmi         527 non-null float64\n",
      "pedig       537 non-null float64\n",
      "age         537 non-null int64\n",
      "target      537 non-null int64\n",
      "dtypes: float64(6), int64(3)\n",
      "memory usage: 37.9 KB\n"
     ]
    }
   ],
   "source": [
    "df.info() #there are missing values in many columns"
   ]
  },
  {
   "cell_type": "code",
   "execution_count": 383,
   "metadata": {},
   "outputs": [
    {
     "data": {
      "image/png": "[encoded data removed]",
      "text/plain": [
       "<Figure size 1800x720 with 2 Axes>"
      ]
     },
     "metadata": {},
     "output_type": "display_data"
    }
   ],
   "source": [
    "import missingno as msno\n",
    "msno.matrix(df);"
   ]
  },
  {
   "cell_type": "code",
   "execution_count": 384,
   "metadata": {},
   "outputs": [
    {
     "data": {
      "image/png": "[encoded data removed]",
      "text/plain": [
       "<Figure size 576x576 with 2 Axes>"
      ]
     },
     "metadata": {},
     "output_type": "display_data"
    }
   ],
   "source": [
    "# Correlation matrix\n",
    "corr = df.corr()\n",
    "plt.figure(figsize=(8, 8))\n",
    "sns.heatmap(corr, cbar=True, square=True, annot=True, fmt='.2f',annot_kws={'size': 15},\n",
    "           xticklabels=df.columns, yticklabels=df.columns, cmap= 'coolwarm')\n",
    "plt.yticks(rotation=0)\n",
    "plt.xticks(rotation=90)\n",
    "plt.show()"
   ]
  },
  {
   "cell_type": "markdown",
   "metadata": {},
   "source": [
    "There is highly correlation between bmi and triceps "
   ]
  },
  {
   "cell_type": "code",
   "execution_count": 385,
   "metadata": {},
   "outputs": [
    {
     "data": {
      "image/png": "[encoded data removed]",
      "text/plain": [
       "<Figure size 432x288 with 1 Axes>"
      ]
     },
     "metadata": {},
     "output_type": "display_data"
    }
   ],
   "source": [
    "# Pregnancy rate vs target\n",
    "sns.countplot('numpreg',hue='target',data=df)\n",
    "plt.title('Pregnancy vs target', size=13)\n",
    "plt.xlabel('Pregnancy', size=14)\n",
    "plt.legend(loc='upper right')\n",
    "plt.tight_layout()   \n",
    "plt.show()"
   ]
  },
  {
   "cell_type": "markdown",
   "metadata": {},
   "source": [
    "As the higher the number of pregnancies, the more likely it is to have diabetes especially in 7,8,9 children"
   ]
  },
  {
   "cell_type": "code",
   "execution_count": 386,
   "metadata": {},
   "outputs": [
    {
     "data": {
      "image/png": "[encoded data removed]",
      "text/plain": [
       "<Figure size 720x720 with 9 Axes>"
      ]
     },
     "metadata": {},
     "output_type": "display_data"
    }
   ],
   "source": [
    "# distributions of attributes\n",
    "cols=['numpreg', 'pgc', 'bldpres', 'triceps', 'serumins',\n",
    "       'bmi', 'pedig', 'age']\n",
    "df[cols].hist(figsize = [10,10]);"
   ]
  },
  {
   "cell_type": "markdown",
   "metadata": {},
   "source": [
    "I controlled the distribution of features, these are generally right skewed. "
   ]
  },
  {
   "cell_type": "code",
   "execution_count": 387,
   "metadata": {},
   "outputs": [
    {
     "data": {
      "image/png": "[encoded data removed]",
      "text/plain": [
       "<Figure size 1080x432 with 6 Axes>"
      ]
     },
     "metadata": {},
     "output_type": "display_data"
    }
   ],
   "source": [
    "plt.figure(figsize=(15,6))\n",
    "plt.subplot(2,3,1)\n",
    "sns.boxplot(x='target', y='age', data=df);\n",
    "plt.subplot(2,3,2)\n",
    "sns.boxplot(x='target', y='pgc', data=df);\n",
    "plt.subplot(2,3,3)\n",
    "sns.boxplot(x='target', y='bldpres', data=df);\n",
    "plt.subplot(2,3,4)\n",
    "sns.boxplot(x='target', y='triceps', data=df);\n",
    "plt.subplot(2,3,5)\n",
    "sns.boxplot(x='target', y='serumins', data=df);\n",
    "plt.subplot(2,3,6)\n",
    "sns.boxplot(x='target', y='bmi', data=df);\n",
    "plt.show()\n"
   ]
  },
  {
   "cell_type": "markdown",
   "metadata": {},
   "source": [
    "There is a significant relation between  age, pgc,triceps,serumins,bmi features  and target"
   ]
  },
  {
   "cell_type": "code",
   "execution_count": 388,
   "metadata": {},
   "outputs": [
    {
     "data": {
      "image/png": "[encoded data removed]",
      "text/plain": [
       "<Figure size 432x288 with 1 Axes>"
      ]
     },
     "metadata": {},
     "output_type": "display_data"
    }
   ],
   "source": [
    "sns.boxplot(x='target', y='pedig', data=df);"
   ]
  },
  {
   "cell_type": "code",
   "execution_count": 389,
   "metadata": {},
   "outputs": [],
   "source": [
    "dftrain=df.copy()\n",
    "dftest = pd.read_csv('pima_test.csv')\n"
   ]
  },
  {
   "cell_type": "code",
   "execution_count": 390,
   "metadata": {},
   "outputs": [
    {
     "data": {
      "text/html": [
       "<div>\n",
       "<style scoped>\n",
       "    .dataframe tbody tr th:only-of-type {\n",
       "        vertical-align: middle;\n",
       "    }\n",
       "\n",
       "    .dataframe tbody tr th {\n",
       "        vertical-align: top;\n",
       "    }\n",
       "\n",
       "    .dataframe thead th {\n",
       "        text-align: right;\n",
       "    }\n",
       "</style>\n",
       "<table border=\"1\" class=\"dataframe\">\n",
       "  <thead>\n",
       "    <tr style=\"text-align: right;\">\n",
       "      <th></th>\n",
       "      <th>numpreg</th>\n",
       "      <th>pgc</th>\n",
       "      <th>bldpres</th>\n",
       "      <th>triceps</th>\n",
       "      <th>serumins</th>\n",
       "      <th>bmi</th>\n",
       "      <th>pedig</th>\n",
       "      <th>age</th>\n",
       "      <th>target</th>\n",
       "    </tr>\n",
       "  </thead>\n",
       "  <tbody>\n",
       "    <tr>\n",
       "      <td>0</td>\n",
       "      <td>4</td>\n",
       "      <td>154.0</td>\n",
       "      <td>62.0</td>\n",
       "      <td>31.0</td>\n",
       "      <td>284.0</td>\n",
       "      <td>32.8</td>\n",
       "      <td>0.237</td>\n",
       "      <td>23</td>\n",
       "      <td>0</td>\n",
       "    </tr>\n",
       "    <tr>\n",
       "      <td>1</td>\n",
       "      <td>6</td>\n",
       "      <td>134.0</td>\n",
       "      <td>70.0</td>\n",
       "      <td>23.0</td>\n",
       "      <td>130.0</td>\n",
       "      <td>35.4</td>\n",
       "      <td>0.542</td>\n",
       "      <td>29</td>\n",
       "      <td>1</td>\n",
       "    </tr>\n",
       "    <tr>\n",
       "      <td>2</td>\n",
       "      <td>4</td>\n",
       "      <td>118.0</td>\n",
       "      <td>70.0</td>\n",
       "      <td>NaN</td>\n",
       "      <td>NaN</td>\n",
       "      <td>44.5</td>\n",
       "      <td>0.904</td>\n",
       "      <td>26</td>\n",
       "      <td>0</td>\n",
       "    </tr>\n",
       "    <tr>\n",
       "      <td>3</td>\n",
       "      <td>5</td>\n",
       "      <td>162.0</td>\n",
       "      <td>104.0</td>\n",
       "      <td>NaN</td>\n",
       "      <td>NaN</td>\n",
       "      <td>37.7</td>\n",
       "      <td>0.151</td>\n",
       "      <td>52</td>\n",
       "      <td>1</td>\n",
       "    </tr>\n",
       "    <tr>\n",
       "      <td>4</td>\n",
       "      <td>0</td>\n",
       "      <td>102.0</td>\n",
       "      <td>86.0</td>\n",
       "      <td>17.0</td>\n",
       "      <td>105.0</td>\n",
       "      <td>29.3</td>\n",
       "      <td>0.695</td>\n",
       "      <td>27</td>\n",
       "      <td>0</td>\n",
       "    </tr>\n",
       "  </tbody>\n",
       "</table>\n",
       "</div>"
      ],
      "text/plain": [
       "   numpreg    pgc  bldpres  triceps  serumins   bmi  pedig  age  target\n",
       "0        4  154.0     62.0     31.0     284.0  32.8  0.237   23       0\n",
       "1        6  134.0     70.0     23.0     130.0  35.4  0.542   29       1\n",
       "2        4  118.0     70.0      NaN       NaN  44.5  0.904   26       0\n",
       "3        5  162.0    104.0      NaN       NaN  37.7  0.151   52       1\n",
       "4        0  102.0     86.0     17.0     105.0  29.3  0.695   27       0"
      ]
     },
     "execution_count": 390,
     "metadata": {},
     "output_type": "execute_result"
    }
   ],
   "source": [
    "dftest.head()"
   ]
  },
  {
   "cell_type": "code",
   "execution_count": 391,
   "metadata": {},
   "outputs": [],
   "source": [
    "columns_in_use = ['numpreg', 'pgc', 'bldpres', 'triceps', 'serumins', 'bmi', 'pedig', 'age']\n",
    "y_train = dftrain['target']\n",
    "X_train = dftrain[columns_in_use]\n",
    "y_test = dftest['target']\n",
    "X_test = dftest[columns_in_use]"
   ]
  },
  {
   "cell_type": "code",
   "execution_count": 392,
   "metadata": {},
   "outputs": [],
   "source": [
    "# explicitly require this experimental feature\n",
    "from sklearn.experimental import enable_iterative_imputer\n",
    "# now you can import normally from sklearn.impute\n",
    "from sklearn.impute import IterativeImputer, SimpleImputer\n",
    "from sklearn.linear_model import LogisticRegression"
   ]
  },
  {
   "cell_type": "code",
   "execution_count": 393,
   "metadata": {},
   "outputs": [],
   "source": [
    "from imblearn.pipeline import Pipeline as pipe_imb"
   ]
  },
  {
   "cell_type": "code",
   "execution_count": 394,
   "metadata": {},
   "outputs": [],
   "source": [
    "# Import libraries\n",
    "from imblearn.over_sampling import SMOTE\n",
    "from imblearn.pipeline import Pipeline as pipe_imb\n",
    "from imblearn.over_sampling import RandomOverSampler\n",
    "from imblearn.under_sampling import RandomUnderSampler\n",
    "from imblearn.metrics import classification_report_imbalanced\n",
    "from imblearn.pipeline import make_pipeline as make_pipeline_imb"
   ]
  },
  {
   "cell_type": "markdown",
   "metadata": {},
   "source": [
    "### Mean/Median imputation\n",
    "Many features have right skewed distribution therefore I choosed median for imputation"
   ]
  },
  {
   "cell_type": "code",
   "execution_count": 395,
   "metadata": {
    "scrolled": true
   },
   "outputs": [
    {
     "name": "stdout",
     "output_type": "stream",
     "text": [
      "Fitting 5 folds for each of 266 candidates, totalling 1330 fits\n"
     ]
    },
    {
     "name": "stderr",
     "output_type": "stream",
     "text": [
      "[Parallel(n_jobs=-1)]: Using backend LokyBackend with 4 concurrent workers.\n",
      "[Parallel(n_jobs=-1)]: Done  44 tasks      | elapsed:   22.1s\n"
     ]
    },
    {
     "name": "stdout",
     "output_type": "stream",
     "text": [
      "Pipeline(memory=None,\n",
      "         steps=[('imputer',\n",
      "                 SimpleImputer(add_indicator=False, copy=True, fill_value=None,\n",
      "                               missing_values=nan, strategy='median',\n",
      "                               verbose=0)),\n",
      "                ('scaler',\n",
      "                 StandardScaler(copy=True, with_mean=True, with_std=True)),\n",
      "                ('clf',\n",
      "                 LogisticRegression(C=0.1, class_weight=None, dual=False,\n",
      "                                    fit_intercept=True, intercept_scaling=1,\n",
      "                                    l1_ratio=None, max_iter=100,\n",
      "                                    multi_class='auto', n_jobs=None,\n",
      "                                    penalty='l2', random_state=42,\n",
      "                                    solver='newton-cg', tol=0.0001, verbose=0,\n",
      "                                    warm_start=False))],\n",
      "         verbose=False) \n",
      "\n",
      "Training accuracy: 0.7858472998137802\n",
      "Test accuracy    : 0.7402597402597403\n"
     ]
    },
    {
     "name": "stderr",
     "output_type": "stream",
     "text": [
      "[Parallel(n_jobs=-1)]: Done 1330 out of 1330 | elapsed:   30.9s finished\n"
     ]
    }
   ],
   "source": [
    "pipe = Pipeline([('imputer', SimpleImputer(missing_values=np.nan, strategy='median')),\n",
    "                 ('scaler',  StandardScaler()),\n",
    "                 ('clf',     LogisticRegression(random_state=42))])\n",
    "\n",
    "params = [{'clf__C'           : np.arange(0.1, 2.0, 0.05), \n",
    "           'clf__penalty'     : ['l1'], \n",
    "           'clf__solver'      : ['liblinear', 'saga']},\n",
    "          \n",
    "          {'clf__C'           : np.arange(0.1, 2.0, 0.05), \n",
    "           'clf__penalty'     : ['l2'], \n",
    "           'clf__solver'      : ['liblinear', 'newton-cg', 'lbfgs', 'sag', 'saga']}]\n",
    "\n",
    "skf = StratifiedKFold(n_splits=5, random_state=42, shuffle=True)\n",
    "grid = GridSearchCV(pipe, param_grid=params, cv=skf, n_jobs=-1 , verbose=1)\n",
    "\n",
    "grid.fit(X_train, y_train)\n",
    "\n",
    "print(grid.best_estimator_,'\\n')\n",
    "test_score = grid.score(X_test, y_test)\n",
    "print('Training accuracy:', grid.score(X_train, y_train))\n",
    "print('Test accuracy    :', test_score)"
   ]
  },
  {
   "cell_type": "code",
   "execution_count": 396,
   "metadata": {},
   "outputs": [
    {
     "data": {
      "image/png": "[encoded data removed]",
      "text/plain": [
       "<Figure size 432x288 with 2 Axes>"
      ]
     },
     "metadata": {},
     "output_type": "display_data"
    },
    {
     "name": "stdout",
     "output_type": "stream",
     "text": [
      "\n",
      "               precision    recall  f1-score   support\n",
      "\n",
      "           0       0.77      0.85      0.81       150\n",
      "           1       0.66      0.53      0.59        81\n",
      "\n",
      "    accuracy                           0.74       231\n",
      "   macro avg       0.72      0.69      0.70       231\n",
      "weighted avg       0.73      0.74      0.73       231\n",
      "\n"
     ]
    }
   ],
   "source": [
    "from sklearn.metrics import confusion_matrix\n",
    "from sklearn.metrics import precision_score, recall_score, roc_auc_score, precision_recall_curve\n",
    "from sklearn.metrics import f1_score, fbeta_score, accuracy_score, classification_report, average_precision_score\n",
    "\n",
    "def draw_cm(actual, predicted):\n",
    "    cm = confusion_matrix(actual, predicted, [1,0])\n",
    "    sns.heatmap(cm, annot=True,  fmt='.0f', xticklabels = [\"1:Positive\", \"0:negative\"] , \n",
    "                yticklabels = [\"1:Positive\", \"0:negative\"] )\n",
    "    plt.ylabel('ACTUAL')\n",
    "    plt.xlabel('PREDICTED')\n",
    "    plt.show()\n",
    "draw_cm( y_test, grid.predict(X_test) )\n",
    "print('\\n',classification_report(y_test, grid.predict(X_test)))"
   ]
  },
  {
   "cell_type": "code",
   "execution_count": 397,
   "metadata": {},
   "outputs": [
    {
     "name": "stdout",
     "output_type": "stream",
     "text": [
      "Fitting 5 folds for each of 5320 candidates, totalling 26600 fits\n"
     ]
    },
    {
     "name": "stderr",
     "output_type": "stream",
     "text": [
      "[Parallel(n_jobs=-1)]: Using backend LokyBackend with 4 concurrent workers.\n",
      "[Parallel(n_jobs=-1)]: Done  90 tasks      | elapsed:    1.9s\n",
      "[Parallel(n_jobs=-1)]: Done 990 tasks      | elapsed:   11.4s\n",
      "[Parallel(n_jobs=-1)]: Done 2490 tasks      | elapsed:   30.6s\n",
      "[Parallel(n_jobs=-1)]: Done 4590 tasks      | elapsed:   58.2s\n",
      "[Parallel(n_jobs=-1)]: Done 7290 tasks      | elapsed:  1.5min\n",
      "[Parallel(n_jobs=-1)]: Done 10590 tasks      | elapsed:  2.3min\n",
      "[Parallel(n_jobs=-1)]: Done 14490 tasks      | elapsed:  3.2min\n",
      "[Parallel(n_jobs=-1)]: Done 18990 tasks      | elapsed:  4.3min\n",
      "[Parallel(n_jobs=-1)]: Done 24090 tasks      | elapsed:  5.4min\n",
      "[Parallel(n_jobs=-1)]: Done 26600 out of 26600 | elapsed:  6.0min finished\n"
     ]
    },
    {
     "name": "stdout",
     "output_type": "stream",
     "text": [
      "Pipeline(memory=None,\n",
      "         steps=[('imputer',\n",
      "                 SimpleImputer(add_indicator=False, copy=True, fill_value=None,\n",
      "                               missing_values=nan, strategy='median',\n",
      "                               verbose=0)),\n",
      "                ('scaler',\n",
      "                 StandardScaler(copy=True, with_mean=True, with_std=True)),\n",
      "                ('sampler',\n",
      "                 SMOTEENN(enn=EditedNearestNeighbours(kind_sel='all',\n",
      "                                                      n_jobs=None,\n",
      "                                                      n_neighbors=5,\n",
      "                                                      sampling_strategy='auto'),\n",
      "                          n_jobs=None, random_state=42, sampling_strategy=1.0,\n",
      "                          smote=None)),\n",
      "                ('clf',\n",
      "                 LogisticRegression(C=0.3500000000000001, class_weight=None,\n",
      "                                    dual=False, fit_intercept=True,\n",
      "                                    intercept_scaling=1, l1_ratio=None,\n",
      "                                    max_iter=100, multi_class='auto',\n",
      "                                    n_jobs=None, penalty='l2', random_state=42,\n",
      "                                    solver='newton-cg', tol=0.0001, verbose=0,\n",
      "                                    warm_start=False))],\n",
      "         verbose=False) \n",
      "\n",
      "Training accuracy: 0.770949720670391\n",
      "Test accuracy    : 0.7489177489177489\n"
     ]
    }
   ],
   "source": [
    "#I added sampler to pipeline because there is a imblance data. However accuracy did not get better. \n",
    "\n",
    "SMOTEENN_pipe = pipe_imb(steps=[('imputer', SimpleImputer(missing_values=np.nan, strategy='median')),\n",
    "                           ('scaler',  StandardScaler()),\n",
    "                           ('sampler', SMOTEENN(enn=EditedNearestNeighbours(), random_state=42)),\n",
    "                           ('clf', LogisticRegression(random_state=42))])\n",
    "\n",
    "params = [{'clf__C'           : np.arange(0.1, 2.0, 0.05), \n",
    "           'clf__penalty'     : ['l1'], \n",
    "           'clf__solver'      : ['liblinear', 'saga'],\n",
    "           'sampler__sampling_strategy': [0.6, 0.7, 0.8, 1.0],\n",
    "           'sampler__enn__n_neighbors': [5, 7, 8, 9,10] },\n",
    "          \n",
    "          {'clf__C'           : np.arange(0.1, 2.0, 0.05), \n",
    "           'clf__penalty'     : ['l2'], \n",
    "           'clf__solver'      : ['liblinear', 'newton-cg', 'lbfgs', 'sag', 'saga'],\n",
    "           'sampler__sampling_strategy': [0.6, 0.7, 0.8, 1.0],\n",
    "           'sampler__enn__n_neighbors': [5, 7, 8, 9,10]},\n",
    "         ]\n",
    "\n",
    "kfold = StratifiedKFold(n_splits = 5, random_state = 42) # train/validation with the same ratio of classes\n",
    "\n",
    "grids = GridSearchCV(SMOTEENN_pipe, param_grid=params, cv=kfold, n_jobs=-1 , verbose=1)\n",
    "\n",
    "grids.fit(X_train, y_train)\n",
    "\n",
    "print(grids.best_estimator_,'\\n')\n",
    "test_score = grids.score(X_test, y_test)\n",
    "print('Training accuracy:', grids.score(X_train, y_train))\n",
    "print('Test accuracy    :', test_score)"
   ]
  },
  {
   "cell_type": "code",
   "execution_count": 398,
   "metadata": {},
   "outputs": [
    {
     "data": {
      "image/png": "[encoded data removed]",
      "text/plain": [
       "<Figure size 432x288 with 2 Axes>"
      ]
     },
     "metadata": {},
     "output_type": "display_data"
    },
    {
     "name": "stdout",
     "output_type": "stream",
     "text": [
      "\n",
      "               precision    recall  f1-score   support\n",
      "\n",
      "           0       0.76      0.89      0.82       150\n",
      "           1       0.70      0.49      0.58        81\n",
      "\n",
      "    accuracy                           0.75       231\n",
      "   macro avg       0.73      0.69      0.70       231\n",
      "weighted avg       0.74      0.75      0.74       231\n",
      "\n"
     ]
    }
   ],
   "source": [
    "draw_cm( y_test, grids.predict(X_test) )\n",
    "print('\\n',classification_report(y_test, grids.predict(X_test)))"
   ]
  },
  {
   "cell_type": "markdown",
   "metadata": {},
   "source": [
    "### 2)the predictive methods in the Iterative Imputer of scikit-learn"
   ]
  },
  {
   "cell_type": "markdown",
   "metadata": {},
   "source": [
    "### IterativeImputer BayesianRidge()"
   ]
  },
  {
   "cell_type": "code",
   "execution_count": 399,
   "metadata": {},
   "outputs": [
    {
     "name": "stdout",
     "output_type": "stream",
     "text": [
      "Fitting 5 folds for each of 266 candidates, totalling 1330 fits\n"
     ]
    },
    {
     "name": "stderr",
     "output_type": "stream",
     "text": [
      "[Parallel(n_jobs=-1)]: Using backend LokyBackend with 4 concurrent workers.\n",
      "[Parallel(n_jobs=-1)]: Done  42 tasks      | elapsed:    2.3s\n",
      "[Parallel(n_jobs=-1)]: Done 192 tasks      | elapsed:    7.8s\n",
      "[Parallel(n_jobs=-1)]: Done 442 tasks      | elapsed:   17.5s\n",
      "[Parallel(n_jobs=-1)]: Done 792 tasks      | elapsed:   33.2s\n",
      "[Parallel(n_jobs=-1)]: Done 1242 tasks      | elapsed:   52.8s\n",
      "[Parallel(n_jobs=-1)]: Done 1330 out of 1330 | elapsed:   56.6s finished\n"
     ]
    },
    {
     "name": "stdout",
     "output_type": "stream",
     "text": [
      "Pipeline(memory=None,\n",
      "         steps=[('imputer',\n",
      "                 IterativeImputer(add_indicator=False, estimator=None,\n",
      "                                  imputation_order='ascending',\n",
      "                                  initial_strategy='mean', max_iter=10,\n",
      "                                  max_value=None, min_value=None,\n",
      "                                  missing_values=nan, n_nearest_features=None,\n",
      "                                  random_state=None, sample_posterior=False,\n",
      "                                  skip_complete=False, tol=0.001, verbose=0)),\n",
      "                ('scaler',\n",
      "                 StandardScaler(copy=True, with_mean=True, with_std=True)),\n",
      "                ('clf',\n",
      "                 LogisticRegression(C=0.20000000000000004, class_weight=None,\n",
      "                                    dual=False, fit_intercept=True,\n",
      "                                    intercept_scaling=1, l1_ratio=None,\n",
      "                                    max_iter=100, multi_class='auto',\n",
      "                                    n_jobs=None, penalty='l1', random_state=42,\n",
      "                                    solver='saga', tol=0.0001, verbose=0,\n",
      "                                    warm_start=False))],\n",
      "         verbose=False) \n",
      "\n",
      "Training accuracy: 0.7877094972067039\n",
      "Test accuracy    : 0.7359307359307359\n"
     ]
    }
   ],
   "source": [
    "pipe = Pipeline([('imputer', IterativeImputer()),\n",
    "                 ('scaler',  StandardScaler()),\n",
    "                 ('clf',     LogisticRegression(random_state=42))])\n",
    "\n",
    "params = [{'clf__C'           : np.arange(0.1, 2.0, 0.05), \n",
    "           'clf__penalty'     : ['l1'], \n",
    "           'clf__solver'      : ['liblinear', 'saga']},\n",
    "          \n",
    "          {'clf__C'           : np.arange(0.1, 2.0, 0.05), \n",
    "           'clf__penalty'     : ['l2'], \n",
    "           'clf__solver'      : ['liblinear', 'newton-cg', 'lbfgs', 'sag', 'saga']}]\n",
    "\n",
    "skf = StratifiedKFold(n_splits=5, random_state=42, shuffle=True)\n",
    "grid = GridSearchCV(pipe, param_grid=params, cv=skf, n_jobs=-1, verbose=1)\n",
    "\n",
    "grid.fit(X_train, y_train)\n",
    "\n",
    "print(grid.best_estimator_,'\\n')\n",
    "test_score = grid.score(X_test, y_test)\n",
    "print('Training accuracy:', grid.score(X_train, y_train))\n",
    "print('Test accuracy    :', test_score)"
   ]
  },
  {
   "cell_type": "code",
   "execution_count": 400,
   "metadata": {},
   "outputs": [],
   "source": [
    "from sklearn.linear_model import BayesianRidge\n",
    "from sklearn.tree import DecisionTreeRegressor\n",
    "from sklearn.ensemble import ExtraTreesRegressor\n",
    "from sklearn.neighbors import KNeighborsRegressor"
   ]
  },
  {
   "cell_type": "code",
   "execution_count": 401,
   "metadata": {},
   "outputs": [],
   "source": [
    "#I try these imputers in order\n",
    "#DecisionTreeRegressor(max_features='sqrt', random_state=0),\n",
    "#ExtraTreesRegressor(n_estimators=10, random_state=0),\n",
    "#KNeighborsRegressor(n_neighbors=15)"
   ]
  },
  {
   "cell_type": "markdown",
   "metadata": {},
   "source": [
    "### IterativeImputer - DecisionTreeRegressor"
   ]
  },
  {
   "cell_type": "code",
   "execution_count": 402,
   "metadata": {},
   "outputs": [
    {
     "name": "stdout",
     "output_type": "stream",
     "text": [
      "Fitting 5 folds for each of 266 candidates, totalling 1330 fits\n"
     ]
    },
    {
     "name": "stderr",
     "output_type": "stream",
     "text": [
      "[Parallel(n_jobs=-1)]: Using backend LokyBackend with 4 concurrent workers.\n",
      "[Parallel(n_jobs=-1)]: Done  42 tasks      | elapsed:    3.9s\n",
      "[Parallel(n_jobs=-1)]: Done 192 tasks      | elapsed:   19.2s\n",
      "[Parallel(n_jobs=-1)]: Done 442 tasks      | elapsed:   43.9s\n",
      "[Parallel(n_jobs=-1)]: Done 792 tasks      | elapsed:  1.3min\n",
      "[Parallel(n_jobs=-1)]: Done 1242 tasks      | elapsed:  2.1min\n",
      "[Parallel(n_jobs=-1)]: Done 1330 out of 1330 | elapsed:  2.3min finished\n"
     ]
    },
    {
     "name": "stdout",
     "output_type": "stream",
     "text": [
      "Pipeline(memory=None,\n",
      "         steps=[('imputer',\n",
      "                 IterativeImputer(add_indicator=False,\n",
      "                                  estimator=DecisionTreeRegressor(ccp_alpha=0.0,\n",
      "                                                                  criterion='mse',\n",
      "                                                                  max_depth=None,\n",
      "                                                                  max_features='sqrt',\n",
      "                                                                  max_leaf_nodes=None,\n",
      "                                                                  min_impurity_decrease=0.0,\n",
      "                                                                  min_impurity_split=None,\n",
      "                                                                  min_samples_leaf=1,\n",
      "                                                                  min_samples_split=2,\n",
      "                                                                  min_weight_fraction_leaf=0.0,\n",
      "                                                                  presort='deprecated',\n",
      "                                                                  random_state=42,\n",
      "                                                                  sp...\n",
      "                                  skip_complete=False, tol=0.001, verbose=0)),\n",
      "                ('scaler',\n",
      "                 StandardScaler(copy=True, with_mean=True, with_std=True)),\n",
      "                ('clf',\n",
      "                 LogisticRegression(C=0.15000000000000002, class_weight=None,\n",
      "                                    dual=False, fit_intercept=True,\n",
      "                                    intercept_scaling=1, l1_ratio=None,\n",
      "                                    max_iter=100, multi_class='auto',\n",
      "                                    n_jobs=None, penalty='l1', random_state=42,\n",
      "                                    solver='saga', tol=0.0001, verbose=0,\n",
      "                                    warm_start=False))],\n",
      "         verbose=False) \n",
      "\n",
      "Training accuracy: 0.7895716945996276\n",
      "Test accuracy    : 0.7359307359307359\n"
     ]
    }
   ],
   "source": [
    "pipe = Pipeline([('imputer', IterativeImputer(random_state=42,\n",
    "                                              estimator=DecisionTreeRegressor(max_features='sqrt', random_state=42))),\n",
    "                 ('scaler',  StandardScaler()),\n",
    "                 ('clf',     LogisticRegression(random_state=42))])\n",
    "\n",
    "params = [{'clf__C'           : np.arange(0.1, 2.0, 0.05), \n",
    "           'clf__penalty'     : ['l1'], \n",
    "           'clf__solver'      : ['liblinear', 'saga']},\n",
    "          \n",
    "          {'clf__C'           : np.arange(0.1, 2.0, 0.05), \n",
    "           'clf__penalty'     : ['l2'], \n",
    "           'clf__solver'      : ['liblinear', 'newton-cg', 'lbfgs', 'sag', 'saga']}]\n",
    "\n",
    "skf = StratifiedKFold(n_splits=5, random_state=42, shuffle=True)\n",
    "grid = GridSearchCV(pipe, param_grid=params, cv=skf, n_jobs=-1, verbose=1)\n",
    "\n",
    "grid.fit(X_train, y_train)\n",
    "\n",
    "print(grid.best_estimator_,'\\n')\n",
    "test_score = grid.score(X_test, y_test)\n",
    "print('Training accuracy:', grid.score(X_train, y_train))\n",
    "print('Test accuracy    :', test_score)"
   ]
  },
  {
   "cell_type": "markdown",
   "metadata": {},
   "source": [
    "### IterativeImputer - ExtraTreesRegressor"
   ]
  },
  {
   "cell_type": "code",
   "execution_count": 403,
   "metadata": {},
   "outputs": [
    {
     "name": "stdout",
     "output_type": "stream",
     "text": [
      "Fitting 5 folds for each of 266 candidates, totalling 1330 fits\n"
     ]
    },
    {
     "name": "stderr",
     "output_type": "stream",
     "text": [
      "[Parallel(n_jobs=-1)]: Using backend LokyBackend with 4 concurrent workers.\n",
      "[Parallel(n_jobs=-1)]: Done  42 tasks      | elapsed:   40.7s\n",
      "[Parallel(n_jobs=-1)]: Done 192 tasks      | elapsed:  2.9min\n",
      "[Parallel(n_jobs=-1)]: Done 442 tasks      | elapsed:  6.7min\n",
      "[Parallel(n_jobs=-1)]: Done 792 tasks      | elapsed: 11.9min\n",
      "[Parallel(n_jobs=-1)]: Done 1242 tasks      | elapsed: 18.5min\n",
      "[Parallel(n_jobs=-1)]: Done 1330 out of 1330 | elapsed: 19.6min finished\n"
     ]
    },
    {
     "name": "stdout",
     "output_type": "stream",
     "text": [
      "Pipeline(memory=None,\n",
      "         steps=[('imputer',\n",
      "                 IterativeImputer(add_indicator=False,\n",
      "                                  estimator=ExtraTreesRegressor(bootstrap=False,\n",
      "                                                                ccp_alpha=0.0,\n",
      "                                                                criterion='mse',\n",
      "                                                                max_depth=None,\n",
      "                                                                max_features='auto',\n",
      "                                                                max_leaf_nodes=None,\n",
      "                                                                max_samples=None,\n",
      "                                                                min_impurity_decrease=0.0,\n",
      "                                                                min_impurity_split=None,\n",
      "                                                                min_samples_leaf=1,\n",
      "                                                                min_samples_split=2,\n",
      "                                                                min_weight_fraction_leaf=0.0,\n",
      "                                                                n_estima...\n",
      "                                  skip_complete=False, tol=0.001, verbose=0)),\n",
      "                ('scaler',\n",
      "                 StandardScaler(copy=True, with_mean=True, with_std=True)),\n",
      "                ('clf',\n",
      "                 LogisticRegression(C=0.1, class_weight=None, dual=False,\n",
      "                                    fit_intercept=True, intercept_scaling=1,\n",
      "                                    l1_ratio=None, max_iter=100,\n",
      "                                    multi_class='auto', n_jobs=None,\n",
      "                                    penalty='l1', random_state=42,\n",
      "                                    solver='saga', tol=0.0001, verbose=0,\n",
      "                                    warm_start=False))],\n",
      "         verbose=False) \n",
      "\n",
      "Training accuracy: 0.7932960893854749\n",
      "Test accuracy    : 0.7402597402597403\n"
     ]
    }
   ],
   "source": [
    "pipe = Pipeline([('imputer', IterativeImputer(random_state=42,\n",
    "                                              estimator=ExtraTreesRegressor(n_estimators=10, random_state=42))),\n",
    "                 ('scaler',  StandardScaler()),\n",
    "                 ('clf',     LogisticRegression(random_state=42))])\n",
    "\n",
    "params = [{'clf__C'           : np.arange(0.1, 2.0, 0.05), \n",
    "           'clf__penalty'     : ['l1'], \n",
    "           'clf__solver'      : ['liblinear', 'saga']},\n",
    "          \n",
    "          {'clf__C'           : np.arange(0.1, 2.0, 0.05), \n",
    "           'clf__penalty'     : ['l2'], \n",
    "           'clf__solver'      : ['liblinear', 'newton-cg', 'lbfgs', 'sag', 'saga']}]\n",
    "\n",
    "skf = StratifiedKFold(n_splits=5, random_state=42, shuffle=True)\n",
    "grid = GridSearchCV(pipe, param_grid=params, cv=skf, n_jobs=-1, verbose=1)\n",
    "\n",
    "grid.fit(X_train, y_train)\n",
    "\n",
    "print(grid.best_estimator_,'\\n')\n",
    "test_score = grid.score(X_test, y_test)\n",
    "print('Training accuracy:', grid.score(X_train, y_train))\n",
    "print('Test accuracy    :', test_score)"
   ]
  },
  {
   "cell_type": "code",
   "execution_count": 404,
   "metadata": {},
   "outputs": [
    {
     "name": "stdout",
     "output_type": "stream",
     "text": [
      "Fitting 5 folds for each of 1064 candidates, totalling 5320 fits\n"
     ]
    },
    {
     "name": "stderr",
     "output_type": "stream",
     "text": [
      "[Parallel(n_jobs=-1)]: Using backend LokyBackend with 4 concurrent workers.\n",
      "[Parallel(n_jobs=-1)]: Done  42 tasks      | elapsed:    4.5s\n",
      "[Parallel(n_jobs=-1)]: Done 192 tasks      | elapsed:   20.3s\n",
      "[Parallel(n_jobs=-1)]: Done 442 tasks      | elapsed:   45.4s\n",
      "[Parallel(n_jobs=-1)]: Done 792 tasks      | elapsed:  1.3min\n",
      "[Parallel(n_jobs=-1)]: Done 1242 tasks      | elapsed:  2.1min\n",
      "[Parallel(n_jobs=-1)]: Done 1792 tasks      | elapsed:  3.0min\n",
      "[Parallel(n_jobs=-1)]: Done 2442 tasks      | elapsed:  4.1min\n",
      "[Parallel(n_jobs=-1)]: Done 3192 tasks      | elapsed:  5.3min\n",
      "[Parallel(n_jobs=-1)]: Done 4042 tasks      | elapsed:  6.7min\n",
      "[Parallel(n_jobs=-1)]: Done 4992 tasks      | elapsed:  8.3min\n",
      "[Parallel(n_jobs=-1)]: Done 5320 out of 5320 | elapsed:  8.9min finished\n"
     ]
    },
    {
     "name": "stdout",
     "output_type": "stream",
     "text": [
      "Pipeline(memory=None,\n",
      "         steps=[('imputer',\n",
      "                 IterativeImputer(add_indicator=False,\n",
      "                                  estimator=KNeighborsRegressor(algorithm='auto',\n",
      "                                                                leaf_size=30,\n",
      "                                                                metric='minkowski',\n",
      "                                                                metric_params=None,\n",
      "                                                                n_jobs=None,\n",
      "                                                                n_neighbors=7,\n",
      "                                                                p=2,\n",
      "                                                                weights='uniform'),\n",
      "                                  imputation_order='ascending',\n",
      "                                  initial_strategy='mean', max_iter=10,\n",
      "                                  max_value=None, min_value=None,\n",
      "                                  missing_values=nan, n_nearest_fea...\n",
      "                                  skip_complete=False, tol=0.001, verbose=0)),\n",
      "                ('scaler',\n",
      "                 StandardScaler(copy=True, with_mean=True, with_std=True)),\n",
      "                ('clf',\n",
      "                 LogisticRegression(C=0.1, class_weight=None, dual=False,\n",
      "                                    fit_intercept=True, intercept_scaling=1,\n",
      "                                    l1_ratio=None, max_iter=100,\n",
      "                                    multi_class='auto', n_jobs=None,\n",
      "                                    penalty='l1', random_state=42,\n",
      "                                    solver='saga', tol=0.0001, verbose=0,\n",
      "                                    warm_start=False))],\n",
      "         verbose=False) \n",
      "\n",
      "Training accuracy: 0.7914338919925512\n",
      "Test accuracy    : 0.7489177489177489\n"
     ]
    }
   ],
   "source": [
    "pipe = Pipeline([('imputer', IterativeImputer(random_state=42,\n",
    "                                              estimator=KNeighborsRegressor())),\n",
    "                 ('scaler',  StandardScaler()),\n",
    "                 ('clf',     LogisticRegression(random_state=42))])\n",
    "\n",
    "params = [{'clf__C'           : np.arange(0.1, 2.0, 0.05), \n",
    "           'clf__penalty'     : ['l1'], \n",
    "           'clf__solver'      : ['liblinear', 'saga'],\n",
    "           'imputer__estimator__n_neighbors':[5,7,9,11]},\n",
    "          \n",
    "          {'clf__C'           : np.arange(0.1, 2.0, 0.05), \n",
    "           'clf__penalty'     : ['l2'], \n",
    "           'clf__solver'      : ['liblinear', 'newton-cg', 'lbfgs', 'sag', 'saga'],\n",
    "           'imputer__estimator__n_neighbors':[5,7,9,11]}]\n",
    "\n",
    "skf = StratifiedKFold(n_splits=5, random_state=42, shuffle=True)\n",
    "grid = GridSearchCV(pipe, param_grid=params, cv=skf, n_jobs=-1, verbose=1)\n",
    "\n",
    "grid.fit(X_train, y_train)\n",
    "\n",
    "print(grid.best_estimator_,'\\n')\n",
    "test_score = grid.score(X_test, y_test)\n",
    "print('Training accuracy:', grid.score(X_train, y_train))\n",
    "print('Test accuracy    :', test_score)"
   ]
  },
  {
   "cell_type": "code",
   "execution_count": 405,
   "metadata": {},
   "outputs": [
    {
     "data": {
      "text/html": [
       "<div>\n",
       "<style scoped>\n",
       "    .dataframe tbody tr th:only-of-type {\n",
       "        vertical-align: middle;\n",
       "    }\n",
       "\n",
       "    .dataframe tbody tr th {\n",
       "        vertical-align: top;\n",
       "    }\n",
       "\n",
       "    .dataframe thead th {\n",
       "        text-align: right;\n",
       "    }\n",
       "</style>\n",
       "<table border=\"1\" class=\"dataframe\">\n",
       "  <thead>\n",
       "    <tr style=\"text-align: right;\">\n",
       "      <th></th>\n",
       "      <th>count</th>\n",
       "      <th>mean</th>\n",
       "      <th>std</th>\n",
       "      <th>min</th>\n",
       "      <th>25%</th>\n",
       "      <th>50%</th>\n",
       "      <th>75%</th>\n",
       "      <th>max</th>\n",
       "    </tr>\n",
       "  </thead>\n",
       "  <tbody>\n",
       "    <tr>\n",
       "      <td>numpreg</td>\n",
       "      <td>537.0</td>\n",
       "      <td>3.919926</td>\n",
       "      <td>3.350083</td>\n",
       "      <td>0.000</td>\n",
       "      <td>1.000</td>\n",
       "      <td>3.000</td>\n",
       "      <td>6.000</td>\n",
       "      <td>17.00</td>\n",
       "    </tr>\n",
       "    <tr>\n",
       "      <td>pgc</td>\n",
       "      <td>532.0</td>\n",
       "      <td>121.421053</td>\n",
       "      <td>30.119276</td>\n",
       "      <td>57.000</td>\n",
       "      <td>99.000</td>\n",
       "      <td>117.000</td>\n",
       "      <td>139.000</td>\n",
       "      <td>198.00</td>\n",
       "    </tr>\n",
       "    <tr>\n",
       "      <td>bldpres</td>\n",
       "      <td>512.0</td>\n",
       "      <td>72.003906</td>\n",
       "      <td>12.180636</td>\n",
       "      <td>30.000</td>\n",
       "      <td>64.000</td>\n",
       "      <td>72.000</td>\n",
       "      <td>80.000</td>\n",
       "      <td>110.00</td>\n",
       "    </tr>\n",
       "    <tr>\n",
       "      <td>triceps</td>\n",
       "      <td>391.0</td>\n",
       "      <td>28.785166</td>\n",
       "      <td>10.018183</td>\n",
       "      <td>7.000</td>\n",
       "      <td>21.000</td>\n",
       "      <td>29.000</td>\n",
       "      <td>36.000</td>\n",
       "      <td>63.00</td>\n",
       "    </tr>\n",
       "    <tr>\n",
       "      <td>serumins</td>\n",
       "      <td>294.0</td>\n",
       "      <td>152.670068</td>\n",
       "      <td>117.592444</td>\n",
       "      <td>14.000</td>\n",
       "      <td>74.250</td>\n",
       "      <td>125.000</td>\n",
       "      <td>184.750</td>\n",
       "      <td>846.00</td>\n",
       "    </tr>\n",
       "    <tr>\n",
       "      <td>bmi</td>\n",
       "      <td>527.0</td>\n",
       "      <td>32.386148</td>\n",
       "      <td>6.996717</td>\n",
       "      <td>18.200</td>\n",
       "      <td>27.300</td>\n",
       "      <td>32.400</td>\n",
       "      <td>36.600</td>\n",
       "      <td>67.10</td>\n",
       "    </tr>\n",
       "    <tr>\n",
       "      <td>pedig</td>\n",
       "      <td>537.0</td>\n",
       "      <td>0.483348</td>\n",
       "      <td>0.335318</td>\n",
       "      <td>0.078</td>\n",
       "      <td>0.254</td>\n",
       "      <td>0.395</td>\n",
       "      <td>0.637</td>\n",
       "      <td>2.42</td>\n",
       "    </tr>\n",
       "    <tr>\n",
       "      <td>age</td>\n",
       "      <td>537.0</td>\n",
       "      <td>33.132216</td>\n",
       "      <td>11.787263</td>\n",
       "      <td>21.000</td>\n",
       "      <td>24.000</td>\n",
       "      <td>29.000</td>\n",
       "      <td>40.000</td>\n",
       "      <td>81.00</td>\n",
       "    </tr>\n",
       "    <tr>\n",
       "      <td>target</td>\n",
       "      <td>537.0</td>\n",
       "      <td>0.348231</td>\n",
       "      <td>0.476854</td>\n",
       "      <td>0.000</td>\n",
       "      <td>0.000</td>\n",
       "      <td>0.000</td>\n",
       "      <td>1.000</td>\n",
       "      <td>1.00</td>\n",
       "    </tr>\n",
       "  </tbody>\n",
       "</table>\n",
       "</div>"
      ],
      "text/plain": [
       "          count        mean         std     min     25%      50%      75%  \\\n",
       "numpreg   537.0    3.919926    3.350083   0.000   1.000    3.000    6.000   \n",
       "pgc       532.0  121.421053   30.119276  57.000  99.000  117.000  139.000   \n",
       "bldpres   512.0   72.003906   12.180636  30.000  64.000   72.000   80.000   \n",
       "triceps   391.0   28.785166   10.018183   7.000  21.000   29.000   36.000   \n",
       "serumins  294.0  152.670068  117.592444  14.000  74.250  125.000  184.750   \n",
       "bmi       527.0   32.386148    6.996717  18.200  27.300   32.400   36.600   \n",
       "pedig     537.0    0.483348    0.335318   0.078   0.254    0.395    0.637   \n",
       "age       537.0   33.132216   11.787263  21.000  24.000   29.000   40.000   \n",
       "target    537.0    0.348231    0.476854   0.000   0.000    0.000    1.000   \n",
       "\n",
       "             max  \n",
       "numpreg    17.00  \n",
       "pgc       198.00  \n",
       "bldpres   110.00  \n",
       "triceps    63.00  \n",
       "serumins  846.00  \n",
       "bmi        67.10  \n",
       "pedig       2.42  \n",
       "age        81.00  \n",
       "target      1.00  "
      ]
     },
     "execution_count": 405,
     "metadata": {},
     "output_type": "execute_result"
    }
   ],
   "source": [
    "df.describe().T"
   ]
  },
  {
   "cell_type": "code",
   "execution_count": 406,
   "metadata": {},
   "outputs": [],
   "source": [
    "df2train=pd.DataFrame(dftrain)\n",
    "df2test=pd.DataFrame(dftest)"
   ]
  },
  {
   "cell_type": "code",
   "execution_count": 407,
   "metadata": {},
   "outputs": [
    {
     "data": {
      "text/html": [
       "<div>\n",
       "<style scoped>\n",
       "    .dataframe tbody tr th:only-of-type {\n",
       "        vertical-align: middle;\n",
       "    }\n",
       "\n",
       "    .dataframe tbody tr th {\n",
       "        vertical-align: top;\n",
       "    }\n",
       "\n",
       "    .dataframe thead th {\n",
       "        text-align: right;\n",
       "    }\n",
       "</style>\n",
       "<table border=\"1\" class=\"dataframe\">\n",
       "  <thead>\n",
       "    <tr style=\"text-align: right;\">\n",
       "      <th></th>\n",
       "      <th>numpreg</th>\n",
       "      <th>pgc</th>\n",
       "      <th>bldpres</th>\n",
       "      <th>triceps</th>\n",
       "      <th>serumins</th>\n",
       "      <th>bmi</th>\n",
       "      <th>pedig</th>\n",
       "      <th>age</th>\n",
       "      <th>target</th>\n",
       "    </tr>\n",
       "  </thead>\n",
       "  <tbody>\n",
       "    <tr>\n",
       "      <td>0</td>\n",
       "      <td>4</td>\n",
       "      <td>151.0</td>\n",
       "      <td>90.0</td>\n",
       "      <td>38.0</td>\n",
       "      <td>NaN</td>\n",
       "      <td>29.7</td>\n",
       "      <td>0.294</td>\n",
       "      <td>36</td>\n",
       "      <td>0</td>\n",
       "    </tr>\n",
       "    <tr>\n",
       "      <td>1</td>\n",
       "      <td>4</td>\n",
       "      <td>116.0</td>\n",
       "      <td>72.0</td>\n",
       "      <td>12.0</td>\n",
       "      <td>87.0</td>\n",
       "      <td>22.1</td>\n",
       "      <td>0.463</td>\n",
       "      <td>37</td>\n",
       "      <td>0</td>\n",
       "    </tr>\n",
       "    <tr>\n",
       "      <td>2</td>\n",
       "      <td>6</td>\n",
       "      <td>92.0</td>\n",
       "      <td>62.0</td>\n",
       "      <td>32.0</td>\n",
       "      <td>126.0</td>\n",
       "      <td>32.0</td>\n",
       "      <td>0.085</td>\n",
       "      <td>46</td>\n",
       "      <td>0</td>\n",
       "    </tr>\n",
       "    <tr>\n",
       "      <td>3</td>\n",
       "      <td>9</td>\n",
       "      <td>57.0</td>\n",
       "      <td>80.0</td>\n",
       "      <td>37.0</td>\n",
       "      <td>NaN</td>\n",
       "      <td>32.8</td>\n",
       "      <td>0.096</td>\n",
       "      <td>41</td>\n",
       "      <td>0</td>\n",
       "    </tr>\n",
       "    <tr>\n",
       "      <td>4</td>\n",
       "      <td>3</td>\n",
       "      <td>81.0</td>\n",
       "      <td>86.0</td>\n",
       "      <td>16.0</td>\n",
       "      <td>66.0</td>\n",
       "      <td>27.5</td>\n",
       "      <td>0.306</td>\n",
       "      <td>22</td>\n",
       "      <td>0</td>\n",
       "    </tr>\n",
       "  </tbody>\n",
       "</table>\n",
       "</div>"
      ],
      "text/plain": [
       "   numpreg    pgc  bldpres  triceps  serumins   bmi  pedig  age  target\n",
       "0        4  151.0     90.0     38.0       NaN  29.7  0.294   36       0\n",
       "1        4  116.0     72.0     12.0      87.0  22.1  0.463   37       0\n",
       "2        6   92.0     62.0     32.0     126.0  32.0  0.085   46       0\n",
       "3        9   57.0     80.0     37.0       NaN  32.8  0.096   41       0\n",
       "4        3   81.0     86.0     16.0      66.0  27.5  0.306   22       0"
      ]
     },
     "execution_count": 407,
     "metadata": {},
     "output_type": "execute_result"
    }
   ],
   "source": [
    "df2train.head()"
   ]
  },
  {
   "cell_type": "markdown",
   "metadata": {},
   "source": [
    "### 3)a variable to indicate missingness"
   ]
  },
  {
   "cell_type": "code",
   "execution_count": 408,
   "metadata": {},
   "outputs": [],
   "source": [
    "#I create new columns in both df2train and df2test for for missing values. \n",
    "missing_columns=[\"pgc\",'bldpres','triceps','serumins','bmi']\n",
    "new_columns=[\"pgc_mis\",'bldpres_mis','triceps_mis','serumins_mis','bmi_mis']\n",
    "df2train['pgc_mis']=1\n",
    "df2train['bldpres_mis']=1\n",
    "df2train['triceps_mis']=1\n",
    "df2train['serumins_mis']=1\n",
    "df2train['bmi_mis']=1\n",
    "df2test['pgc_mis']=1\n",
    "df2test['bldpres_mis']=1\n",
    "df2test['triceps_mis']=1\n",
    "df2test['serumins_mis']=1\n",
    "df2test['bmi_mis']=1"
   ]
  },
  {
   "cell_type": "code",
   "execution_count": 409,
   "metadata": {},
   "outputs": [
    {
     "data": {
      "text/html": [
       "<div>\n",
       "<style scoped>\n",
       "    .dataframe tbody tr th:only-of-type {\n",
       "        vertical-align: middle;\n",
       "    }\n",
       "\n",
       "    .dataframe tbody tr th {\n",
       "        vertical-align: top;\n",
       "    }\n",
       "\n",
       "    .dataframe thead th {\n",
       "        text-align: right;\n",
       "    }\n",
       "</style>\n",
       "<table border=\"1\" class=\"dataframe\">\n",
       "  <thead>\n",
       "    <tr style=\"text-align: right;\">\n",
       "      <th></th>\n",
       "      <th>numpreg</th>\n",
       "      <th>pgc</th>\n",
       "      <th>bldpres</th>\n",
       "      <th>triceps</th>\n",
       "      <th>serumins</th>\n",
       "      <th>bmi</th>\n",
       "      <th>pedig</th>\n",
       "      <th>age</th>\n",
       "      <th>target</th>\n",
       "      <th>pgc_mis</th>\n",
       "      <th>bldpres_mis</th>\n",
       "      <th>triceps_mis</th>\n",
       "      <th>serumins_mis</th>\n",
       "      <th>bmi_mis</th>\n",
       "    </tr>\n",
       "  </thead>\n",
       "  <tbody>\n",
       "    <tr>\n",
       "      <td>0</td>\n",
       "      <td>4</td>\n",
       "      <td>151.0</td>\n",
       "      <td>90.0</td>\n",
       "      <td>38.0</td>\n",
       "      <td>NaN</td>\n",
       "      <td>29.7</td>\n",
       "      <td>0.294</td>\n",
       "      <td>36</td>\n",
       "      <td>0</td>\n",
       "      <td>1</td>\n",
       "      <td>1</td>\n",
       "      <td>1</td>\n",
       "      <td>1</td>\n",
       "      <td>1</td>\n",
       "    </tr>\n",
       "    <tr>\n",
       "      <td>1</td>\n",
       "      <td>4</td>\n",
       "      <td>116.0</td>\n",
       "      <td>72.0</td>\n",
       "      <td>12.0</td>\n",
       "      <td>87.0</td>\n",
       "      <td>22.1</td>\n",
       "      <td>0.463</td>\n",
       "      <td>37</td>\n",
       "      <td>0</td>\n",
       "      <td>1</td>\n",
       "      <td>1</td>\n",
       "      <td>1</td>\n",
       "      <td>1</td>\n",
       "      <td>1</td>\n",
       "    </tr>\n",
       "    <tr>\n",
       "      <td>2</td>\n",
       "      <td>6</td>\n",
       "      <td>92.0</td>\n",
       "      <td>62.0</td>\n",
       "      <td>32.0</td>\n",
       "      <td>126.0</td>\n",
       "      <td>32.0</td>\n",
       "      <td>0.085</td>\n",
       "      <td>46</td>\n",
       "      <td>0</td>\n",
       "      <td>1</td>\n",
       "      <td>1</td>\n",
       "      <td>1</td>\n",
       "      <td>1</td>\n",
       "      <td>1</td>\n",
       "    </tr>\n",
       "    <tr>\n",
       "      <td>3</td>\n",
       "      <td>9</td>\n",
       "      <td>57.0</td>\n",
       "      <td>80.0</td>\n",
       "      <td>37.0</td>\n",
       "      <td>NaN</td>\n",
       "      <td>32.8</td>\n",
       "      <td>0.096</td>\n",
       "      <td>41</td>\n",
       "      <td>0</td>\n",
       "      <td>1</td>\n",
       "      <td>1</td>\n",
       "      <td>1</td>\n",
       "      <td>1</td>\n",
       "      <td>1</td>\n",
       "    </tr>\n",
       "    <tr>\n",
       "      <td>4</td>\n",
       "      <td>3</td>\n",
       "      <td>81.0</td>\n",
       "      <td>86.0</td>\n",
       "      <td>16.0</td>\n",
       "      <td>66.0</td>\n",
       "      <td>27.5</td>\n",
       "      <td>0.306</td>\n",
       "      <td>22</td>\n",
       "      <td>0</td>\n",
       "      <td>1</td>\n",
       "      <td>1</td>\n",
       "      <td>1</td>\n",
       "      <td>1</td>\n",
       "      <td>1</td>\n",
       "    </tr>\n",
       "  </tbody>\n",
       "</table>\n",
       "</div>"
      ],
      "text/plain": [
       "   numpreg    pgc  bldpres  triceps  serumins   bmi  pedig  age  target  \\\n",
       "0        4  151.0     90.0     38.0       NaN  29.7  0.294   36       0   \n",
       "1        4  116.0     72.0     12.0      87.0  22.1  0.463   37       0   \n",
       "2        6   92.0     62.0     32.0     126.0  32.0  0.085   46       0   \n",
       "3        9   57.0     80.0     37.0       NaN  32.8  0.096   41       0   \n",
       "4        3   81.0     86.0     16.0      66.0  27.5  0.306   22       0   \n",
       "\n",
       "   pgc_mis  bldpres_mis  triceps_mis  serumins_mis  bmi_mis  \n",
       "0        1            1            1             1        1  \n",
       "1        1            1            1             1        1  \n",
       "2        1            1            1             1        1  \n",
       "3        1            1            1             1        1  \n",
       "4        1            1            1             1        1  "
      ]
     },
     "execution_count": 409,
     "metadata": {},
     "output_type": "execute_result"
    }
   ],
   "source": [
    "df2train.head()"
   ]
  },
  {
   "cell_type": "code",
   "execution_count": 413,
   "metadata": {},
   "outputs": [],
   "source": [
    "#if a column in df2train has a value, new categoric columns of this columns has 1 value. By this way, new categoric columns become 0 values for missing.\n",
    "for col in range(len(missing_columns)):\n",
    "    for i in df2train.index[df2train[missing_columns[col]].isnull()].tolist():\n",
    "        df2train[new_columns[col]][i]=0 "
   ]
  },
  {
   "cell_type": "code",
   "execution_count": 414,
   "metadata": {},
   "outputs": [],
   "source": [
    "#I make this transaction both train and test data. \n",
    "for col in range(len(missing_columns)):\n",
    "    for i in df2test.index[df2test[missing_columns[col]].isnull()].tolist():\n",
    "        df2test[new_columns[col]][i]=0"
   ]
  },
  {
   "cell_type": "code",
   "execution_count": 415,
   "metadata": {},
   "outputs": [
    {
     "data": {
      "text/html": [
       "<div>\n",
       "<style scoped>\n",
       "    .dataframe tbody tr th:only-of-type {\n",
       "        vertical-align: middle;\n",
       "    }\n",
       "\n",
       "    .dataframe tbody tr th {\n",
       "        vertical-align: top;\n",
       "    }\n",
       "\n",
       "    .dataframe thead th {\n",
       "        text-align: right;\n",
       "    }\n",
       "</style>\n",
       "<table border=\"1\" class=\"dataframe\">\n",
       "  <thead>\n",
       "    <tr style=\"text-align: right;\">\n",
       "      <th></th>\n",
       "      <th>numpreg</th>\n",
       "      <th>pgc</th>\n",
       "      <th>bldpres</th>\n",
       "      <th>triceps</th>\n",
       "      <th>serumins</th>\n",
       "      <th>bmi</th>\n",
       "      <th>pedig</th>\n",
       "      <th>age</th>\n",
       "      <th>target</th>\n",
       "      <th>pgc_mis</th>\n",
       "      <th>bldpres_mis</th>\n",
       "      <th>triceps_mis</th>\n",
       "      <th>serumins_mis</th>\n",
       "      <th>bmi_mis</th>\n",
       "    </tr>\n",
       "  </thead>\n",
       "  <tbody>\n",
       "    <tr>\n",
       "      <td>0</td>\n",
       "      <td>4</td>\n",
       "      <td>154.0</td>\n",
       "      <td>62.0</td>\n",
       "      <td>31.0</td>\n",
       "      <td>284.0</td>\n",
       "      <td>32.8</td>\n",
       "      <td>0.237</td>\n",
       "      <td>23</td>\n",
       "      <td>0</td>\n",
       "      <td>1</td>\n",
       "      <td>1</td>\n",
       "      <td>1</td>\n",
       "      <td>1</td>\n",
       "      <td>1</td>\n",
       "    </tr>\n",
       "    <tr>\n",
       "      <td>1</td>\n",
       "      <td>6</td>\n",
       "      <td>134.0</td>\n",
       "      <td>70.0</td>\n",
       "      <td>23.0</td>\n",
       "      <td>130.0</td>\n",
       "      <td>35.4</td>\n",
       "      <td>0.542</td>\n",
       "      <td>29</td>\n",
       "      <td>1</td>\n",
       "      <td>1</td>\n",
       "      <td>1</td>\n",
       "      <td>1</td>\n",
       "      <td>1</td>\n",
       "      <td>1</td>\n",
       "    </tr>\n",
       "    <tr>\n",
       "      <td>2</td>\n",
       "      <td>4</td>\n",
       "      <td>118.0</td>\n",
       "      <td>70.0</td>\n",
       "      <td>NaN</td>\n",
       "      <td>NaN</td>\n",
       "      <td>44.5</td>\n",
       "      <td>0.904</td>\n",
       "      <td>26</td>\n",
       "      <td>0</td>\n",
       "      <td>1</td>\n",
       "      <td>1</td>\n",
       "      <td>0</td>\n",
       "      <td>0</td>\n",
       "      <td>1</td>\n",
       "    </tr>\n",
       "    <tr>\n",
       "      <td>3</td>\n",
       "      <td>5</td>\n",
       "      <td>162.0</td>\n",
       "      <td>104.0</td>\n",
       "      <td>NaN</td>\n",
       "      <td>NaN</td>\n",
       "      <td>37.7</td>\n",
       "      <td>0.151</td>\n",
       "      <td>52</td>\n",
       "      <td>1</td>\n",
       "      <td>1</td>\n",
       "      <td>1</td>\n",
       "      <td>0</td>\n",
       "      <td>0</td>\n",
       "      <td>1</td>\n",
       "    </tr>\n",
       "    <tr>\n",
       "      <td>4</td>\n",
       "      <td>0</td>\n",
       "      <td>102.0</td>\n",
       "      <td>86.0</td>\n",
       "      <td>17.0</td>\n",
       "      <td>105.0</td>\n",
       "      <td>29.3</td>\n",
       "      <td>0.695</td>\n",
       "      <td>27</td>\n",
       "      <td>0</td>\n",
       "      <td>1</td>\n",
       "      <td>1</td>\n",
       "      <td>1</td>\n",
       "      <td>1</td>\n",
       "      <td>1</td>\n",
       "    </tr>\n",
       "  </tbody>\n",
       "</table>\n",
       "</div>"
      ],
      "text/plain": [
       "   numpreg    pgc  bldpres  triceps  serumins   bmi  pedig  age  target  \\\n",
       "0        4  154.0     62.0     31.0     284.0  32.8  0.237   23       0   \n",
       "1        6  134.0     70.0     23.0     130.0  35.4  0.542   29       1   \n",
       "2        4  118.0     70.0      NaN       NaN  44.5  0.904   26       0   \n",
       "3        5  162.0    104.0      NaN       NaN  37.7  0.151   52       1   \n",
       "4        0  102.0     86.0     17.0     105.0  29.3  0.695   27       0   \n",
       "\n",
       "   pgc_mis  bldpres_mis  triceps_mis  serumins_mis  bmi_mis  \n",
       "0        1            1            1             1        1  \n",
       "1        1            1            1             1        1  \n",
       "2        1            1            0             0        1  \n",
       "3        1            1            0             0        1  \n",
       "4        1            1            1             1        1  "
      ]
     },
     "execution_count": 415,
     "metadata": {},
     "output_type": "execute_result"
    }
   ],
   "source": [
    "df2test.head()"
   ]
  },
  {
   "cell_type": "code",
   "execution_count": 416,
   "metadata": {},
   "outputs": [],
   "source": [
    "columns_in_use_mis = ['numpreg', 'pgc', 'bldpres', 'triceps', 'serumins', 'bmi', 'pedig', 'age','pgc_mis','bldpres_mis','triceps_mis','serumins_mis','bmi_mis']\n",
    "y2_train = df2train['target']\n",
    "X2_train = df2train[columns_in_use_mis]\n",
    "y2_test = df2test['target']\n",
    "X2_test = df2test[columns_in_use_mis]"
   ]
  },
  {
   "cell_type": "code",
   "execution_count": 417,
   "metadata": {},
   "outputs": [
    {
     "data": {
      "text/html": [
       "<div>\n",
       "<style scoped>\n",
       "    .dataframe tbody tr th:only-of-type {\n",
       "        vertical-align: middle;\n",
       "    }\n",
       "\n",
       "    .dataframe tbody tr th {\n",
       "        vertical-align: top;\n",
       "    }\n",
       "\n",
       "    .dataframe thead th {\n",
       "        text-align: right;\n",
       "    }\n",
       "</style>\n",
       "<table border=\"1\" class=\"dataframe\">\n",
       "  <thead>\n",
       "    <tr style=\"text-align: right;\">\n",
       "      <th></th>\n",
       "      <th>numpreg</th>\n",
       "      <th>pgc</th>\n",
       "      <th>bldpres</th>\n",
       "      <th>triceps</th>\n",
       "      <th>serumins</th>\n",
       "      <th>bmi</th>\n",
       "      <th>pedig</th>\n",
       "      <th>age</th>\n",
       "      <th>pgc_mis</th>\n",
       "      <th>bldpres_mis</th>\n",
       "      <th>triceps_mis</th>\n",
       "      <th>serumins_mis</th>\n",
       "      <th>bmi_mis</th>\n",
       "    </tr>\n",
       "  </thead>\n",
       "  <tbody>\n",
       "    <tr>\n",
       "      <td>0</td>\n",
       "      <td>4</td>\n",
       "      <td>151.0</td>\n",
       "      <td>90.0</td>\n",
       "      <td>38.0</td>\n",
       "      <td>NaN</td>\n",
       "      <td>29.7</td>\n",
       "      <td>0.294</td>\n",
       "      <td>36</td>\n",
       "      <td>1</td>\n",
       "      <td>1</td>\n",
       "      <td>1</td>\n",
       "      <td>0</td>\n",
       "      <td>1</td>\n",
       "    </tr>\n",
       "    <tr>\n",
       "      <td>1</td>\n",
       "      <td>4</td>\n",
       "      <td>116.0</td>\n",
       "      <td>72.0</td>\n",
       "      <td>12.0</td>\n",
       "      <td>87.0</td>\n",
       "      <td>22.1</td>\n",
       "      <td>0.463</td>\n",
       "      <td>37</td>\n",
       "      <td>1</td>\n",
       "      <td>1</td>\n",
       "      <td>1</td>\n",
       "      <td>1</td>\n",
       "      <td>1</td>\n",
       "    </tr>\n",
       "    <tr>\n",
       "      <td>2</td>\n",
       "      <td>6</td>\n",
       "      <td>92.0</td>\n",
       "      <td>62.0</td>\n",
       "      <td>32.0</td>\n",
       "      <td>126.0</td>\n",
       "      <td>32.0</td>\n",
       "      <td>0.085</td>\n",
       "      <td>46</td>\n",
       "      <td>1</td>\n",
       "      <td>1</td>\n",
       "      <td>1</td>\n",
       "      <td>1</td>\n",
       "      <td>1</td>\n",
       "    </tr>\n",
       "    <tr>\n",
       "      <td>3</td>\n",
       "      <td>9</td>\n",
       "      <td>57.0</td>\n",
       "      <td>80.0</td>\n",
       "      <td>37.0</td>\n",
       "      <td>NaN</td>\n",
       "      <td>32.8</td>\n",
       "      <td>0.096</td>\n",
       "      <td>41</td>\n",
       "      <td>1</td>\n",
       "      <td>1</td>\n",
       "      <td>1</td>\n",
       "      <td>0</td>\n",
       "      <td>1</td>\n",
       "    </tr>\n",
       "    <tr>\n",
       "      <td>4</td>\n",
       "      <td>3</td>\n",
       "      <td>81.0</td>\n",
       "      <td>86.0</td>\n",
       "      <td>16.0</td>\n",
       "      <td>66.0</td>\n",
       "      <td>27.5</td>\n",
       "      <td>0.306</td>\n",
       "      <td>22</td>\n",
       "      <td>1</td>\n",
       "      <td>1</td>\n",
       "      <td>1</td>\n",
       "      <td>1</td>\n",
       "      <td>1</td>\n",
       "    </tr>\n",
       "  </tbody>\n",
       "</table>\n",
       "</div>"
      ],
      "text/plain": [
       "   numpreg    pgc  bldpres  triceps  serumins   bmi  pedig  age  pgc_mis  \\\n",
       "0        4  151.0     90.0     38.0       NaN  29.7  0.294   36        1   \n",
       "1        4  116.0     72.0     12.0      87.0  22.1  0.463   37        1   \n",
       "2        6   92.0     62.0     32.0     126.0  32.0  0.085   46        1   \n",
       "3        9   57.0     80.0     37.0       NaN  32.8  0.096   41        1   \n",
       "4        3   81.0     86.0     16.0      66.0  27.5  0.306   22        1   \n",
       "\n",
       "   bldpres_mis  triceps_mis  serumins_mis  bmi_mis  \n",
       "0            1            1             0        1  \n",
       "1            1            1             1        1  \n",
       "2            1            1             1        1  \n",
       "3            1            1             0        1  \n",
       "4            1            1             1        1  "
      ]
     },
     "execution_count": 417,
     "metadata": {},
     "output_type": "execute_result"
    }
   ],
   "source": [
    "X2_train.head()"
   ]
  },
  {
   "cell_type": "code",
   "execution_count": 418,
   "metadata": {},
   "outputs": [],
   "source": [
    "# Convert to categorical variables in both train and test dataframe\n",
    "df2train.pgc_mis = df2train.pgc_mis.astype('category')\n",
    "df2train.bldpres_mis = df2train.bldpres_mis.astype('category')\n",
    "df2train.triceps_mis = df2train.triceps_mis.astype('category')\n",
    "df2train.serumins_mis = df2train.serumins_mis.astype('category')\n",
    "df2train.bmi_mis = df2train.bmi_mis.astype('category')\n",
    "df2test.pgc_mis = df2test.pgc_mis.astype('category')\n",
    "df2test.bldpres_mis = df2test.bldpres_mis.astype('category')\n",
    "df2test.triceps_mis = df2test.triceps_mis.astype('category')\n",
    "df2test.serumins_mis = df2test.serumins_mis.astype('category')\n",
    "df2test.bmi_mis = df2test.bmi_mis.astype('category')"
   ]
  },
  {
   "cell_type": "code",
   "execution_count": 420,
   "metadata": {},
   "outputs": [],
   "source": [
    "from sklearn.compose import ColumnTransformer\n",
    "num_transformer = Pipeline(steps=[('imputer', SimpleImputer(missing_values=np.nan, strategy='constant',fill_value=900)),\n",
    "                                    ('scaler', StandardScaler())\n",
    "                                 ])\n",
    "num_attrs = X2_train.columns[X2_train.dtypes != 'category'].tolist()\n",
    "\n",
    "preprocessor = ColumnTransformer(transformers=[('num', num_transformer, num_attrs)],\n",
    "                                 remainder = 'passthrough') "
   ]
  },
  {
   "cell_type": "code",
   "execution_count": 422,
   "metadata": {},
   "outputs": [
    {
     "name": "stdout",
     "output_type": "stream",
     "text": [
      "Fitting 5 folds for each of 266 candidates, totalling 1330 fits\n"
     ]
    },
    {
     "name": "stderr",
     "output_type": "stream",
     "text": [
      "[Parallel(n_jobs=-1)]: Using backend LokyBackend with 4 concurrent workers.\n",
      "[Parallel(n_jobs=-1)]: Done  45 tasks      | elapsed:   17.7s\n",
      "[Parallel(n_jobs=-1)]: Done 1215 tasks      | elapsed:   33.1s\n",
      "[Parallel(n_jobs=-1)]: Done 1330 out of 1330 | elapsed:   34.4s finished\n"
     ]
    },
    {
     "name": "stdout",
     "output_type": "stream",
     "text": [
      "Pipeline(memory=None,\n",
      "         steps=[('preprocessor',\n",
      "                 ColumnTransformer(n_jobs=None, remainder='passthrough',\n",
      "                                   sparse_threshold=0.3,\n",
      "                                   transformer_weights=None,\n",
      "                                   transformers=[('num',\n",
      "                                                  Pipeline(memory=None,\n",
      "                                                           steps=[('imputer',\n",
      "                                                                   SimpleImputer(add_indicator=False,\n",
      "                                                                                 copy=True,\n",
      "                                                                                 fill_value=900,\n",
      "                                                                                 missing_values=nan,\n",
      "                                                                                 strategy='constant',\n",
      "                                                                                 verbose=0)),\n",
      "                                                                  ('scaler',\n",
      "                                                                   StandardScaler(copy=True,\n",
      "                                                                                  w...\n",
      "                                                   'pedig', 'age', 'pgc_mis',\n",
      "                                                   'bldpres_mis', 'triceps_mis',\n",
      "                                                   'serumins_mis',\n",
      "                                                   'bmi_mis'])],\n",
      "                                   verbose=False)),\n",
      "                ('clf',\n",
      "                 LogisticRegression(C=1.7500000000000007, class_weight=None,\n",
      "                                    dual=False, fit_intercept=True,\n",
      "                                    intercept_scaling=1, l1_ratio=None,\n",
      "                                    max_iter=100, multi_class='auto',\n",
      "                                    n_jobs=None, penalty='l1', random_state=42,\n",
      "                                    solver='liblinear', tol=0.0001, verbose=0,\n",
      "                                    warm_start=False))],\n",
      "         verbose=False) \n",
      "\n",
      "Training accuracy: 0.7970204841713222\n",
      "Test accuracy    : 0.7575757575757576\n"
     ]
    }
   ],
   "source": [
    "pipeline = Pipeline(steps=[('preprocessor', preprocessor),\n",
    "                           ('clf',   LogisticRegression(random_state=42))])\n",
    "\n",
    "params = [{'clf__C'           : np.arange(0.1, 2.0, 0.05), \n",
    "           'clf__penalty'     : ['l1'], \n",
    "           'clf__solver'      : ['liblinear', 'saga']},\n",
    "          \n",
    "          {'clf__C'           : np.arange(0.1, 2.0, 0.05), \n",
    "           'clf__penalty'     : ['l2'], \n",
    "           'clf__solver'      : ['liblinear', 'newton-cg', 'lbfgs', 'sag', 'saga']}]\n",
    "\n",
    "skf = StratifiedKFold(n_splits=5, random_state=42, shuffle=True)\n",
    "grid = GridSearchCV(pipeline, param_grid=params, cv=skf, n_jobs=-1 , verbose=1)\n",
    "\n",
    "grid.fit(X2_train, y2_train)\n",
    "\n",
    "print(grid.best_estimator_,'\\n')\n",
    "test_score = grid.score(X2_test, y2_test)\n",
    "print('Training accuracy:', grid.score(X2_train, y2_train))\n",
    "print('Test accuracy    :', test_score)"
   ]
  },
  {
   "cell_type": "code",
   "execution_count": 425,
   "metadata": {},
   "outputs": [],
   "source": [
    "from imblearn.combine import SMOTEENN\n",
    "from imblearn.under_sampling import EditedNearestNeighbours\n",
    "from sklearn.metrics import fbeta_score, make_scorer"
   ]
  },
  {
   "cell_type": "code",
   "execution_count": 428,
   "metadata": {},
   "outputs": [
    {
     "name": "stdout",
     "output_type": "stream",
     "text": [
      "Fitting 5 folds for each of 5320 candidates, totalling 26600 fits\n"
     ]
    },
    {
     "name": "stderr",
     "output_type": "stream",
     "text": [
      "[Parallel(n_jobs=-1)]: Using backend LokyBackend with 4 concurrent workers.\n",
      "[Parallel(n_jobs=-1)]: Done 144 tasks      | elapsed:    2.0s\n",
      "[Parallel(n_jobs=-1)]: Done 744 tasks      | elapsed:   10.6s\n",
      "[Parallel(n_jobs=-1)]: Done 1744 tasks      | elapsed:   27.4s\n",
      "[Parallel(n_jobs=-1)]: Done 3144 tasks      | elapsed:   50.5s\n",
      "[Parallel(n_jobs=-1)]: Done 4944 tasks      | elapsed:  1.3min\n",
      "[Parallel(n_jobs=-1)]: Done 7144 tasks      | elapsed:  1.9min\n",
      "[Parallel(n_jobs=-1)]: Done 9744 tasks      | elapsed:  2.6min\n",
      "[Parallel(n_jobs=-1)]: Done 12744 tasks      | elapsed:  3.4min\n",
      "[Parallel(n_jobs=-1)]: Done 16144 tasks      | elapsed:  4.5min\n",
      "[Parallel(n_jobs=-1)]: Done 19944 tasks      | elapsed:  5.6min\n",
      "[Parallel(n_jobs=-1)]: Done 24144 tasks      | elapsed:  6.8min\n",
      "[Parallel(n_jobs=-1)]: Done 26600 out of 26600 | elapsed:  7.6min finished\n"
     ]
    },
    {
     "name": "stdout",
     "output_type": "stream",
     "text": [
      "Pipeline(memory=None,\n",
      "         steps=[('preprocessor',\n",
      "                 ColumnTransformer(n_jobs=None, remainder='passthrough',\n",
      "                                   sparse_threshold=0.3,\n",
      "                                   transformer_weights=None,\n",
      "                                   transformers=[('num',\n",
      "                                                  Pipeline(memory=None,\n",
      "                                                           steps=[('imputer',\n",
      "                                                                   SimpleImputer(add_indicator=False,\n",
      "                                                                                 copy=True,\n",
      "                                                                                 fill_value=900,\n",
      "                                                                                 missing_values=nan,\n",
      "                                                                                 strategy='constant',\n",
      "                                                                                 verbose=0)),\n",
      "                                                                  ('scaler',\n",
      "                                                                   StandardScaler(copy=True,\n",
      "                                                                                  w...\n",
      "                                                      sampling_strategy='auto'),\n",
      "                          n_jobs=None, random_state=42, sampling_strategy=1.0,\n",
      "                          smote=None)),\n",
      "                ('clf',\n",
      "                 LogisticRegression(C=1.9500000000000006, class_weight=None,\n",
      "                                    dual=False, fit_intercept=True,\n",
      "                                    intercept_scaling=1, l1_ratio=None,\n",
      "                                    max_iter=100, multi_class='auto',\n",
      "                                    n_jobs=None, penalty='l1', random_state=42,\n",
      "                                    solver='liblinear', tol=0.0001, verbose=0,\n",
      "                                    warm_start=False))],\n",
      "         verbose=False) \n",
      "\n",
      "Training accuracy: 0.776536312849162\n",
      "Test accuracy    : 0.7532467532467533\n"
     ]
    }
   ],
   "source": [
    "SMOTEENN_pipe = pipe_imb([('preprocessor', preprocessor), \n",
    "                          ('sampler', SMOTEENN(enn=EditedNearestNeighbours(), random_state=42)),\n",
    "                          ('clf'    , LogisticRegression(random_state=42))])\n",
    "\n",
    "\n",
    "params = [{'clf__C'           : np.arange(0.1, 2.0, 0.05), \n",
    "           'clf__penalty'     : ['l1'], \n",
    "           'clf__solver'      : ['liblinear', 'saga'],\n",
    "           'sampler__sampling_strategy': [0.6, 0.7, 0.8, 1.0],\n",
    "           'sampler__enn__n_neighbors': [5, 7, 8, 9,10] },\n",
    "          \n",
    "          {'clf__C'           : np.arange(0.1, 2.0, 0.05), \n",
    "           'clf__penalty'     : ['l2'], \n",
    "           'clf__solver'      : ['liblinear', 'newton-cg', 'lbfgs', 'sag', 'saga'],\n",
    "           'sampler__sampling_strategy': [0.6, 0.7, 0.8, 1.0],\n",
    "           'sampler__enn__n_neighbors': [5, 7, 8, 9,10]},\n",
    "         ]\n",
    "\n",
    "kfold = StratifiedKFold(n_splits = 5, random_state = 42) # train/validation with the same ratio of classes\n",
    "\n",
    "grids = GridSearchCV(SMOTEENN_pipe, param_grid=params, cv=kfold, n_jobs=-1 , verbose=1)\n",
    "\n",
    "grids.fit(X2_train, y2_train)\n",
    "\n",
    "print(grids.best_estimator_,'\\n')\n",
    "test_score = grids.score(X2_test, y2_test)\n",
    "print('Training accuracy:', grids.score(X2_train, y2_train))\n",
    "print('Test accuracy    :', test_score)"
   ]
  },
  {
   "cell_type": "code",
   "execution_count": null,
   "metadata": {},
   "outputs": [],
   "source": []
  }
 ],
 "metadata": {
  "kernelspec": {
   "display_name": "Python 3",
   "language": "python",
   "name": "python3"
  },
  "language_info": {
   "codemirror_mode": {
    "name": "ipython",
    "version": 3
   },
   "file_extension": ".py",
   "mimetype": "text/x-python",
   "name": "python",
   "nbconvert_exporter": "python",
   "pygments_lexer": "ipython3",
   "version": "3.7.4"
  }
 },
 "nbformat": 4,
 "nbformat_minor": 2
}
